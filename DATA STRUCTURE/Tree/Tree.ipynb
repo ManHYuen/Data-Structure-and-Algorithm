{
 "cells": [
  {
   "cell_type": "code",
   "execution_count": 1,
   "metadata": {},
   "outputs": [],
   "source": [
    "class Node:\n",
    "    def __init__(self, data):\n",
    "        self.data = data\n",
    "        self.children = []\n",
    "    \n",
    "    def add(self, data):\n",
    "        self.children.append(Node(data))\n",
    "        \n",
    "    def remove(self, data):\n",
    "        self.children = list(filter(lambda x: x.data != data, self.children))"
   ]
  },
  {
   "cell_type": "code",
   "execution_count": 2,
   "metadata": {},
   "outputs": [],
   "source": [
    "class Tree:\n",
    "    def __init__(self):\n",
    "        self.root = None\n",
    "        \n",
    "    def traverseBF(self, add = 0):\n",
    "        arr = [self.root]\n",
    "        while len(arr):\n",
    "            node = arr.pop(0)\n",
    "            arr.extend(node.children)\n",
    "            node.data += add\n",
    "            print(node.data)\n",
    "            \n",
    "    def traverseDF(self, add = 0):\n",
    "        arr = [self.root]\n",
    "        while len(arr):\n",
    "            node = arr.pop(0)\n",
    "            arr = [*node.children] + arr\n",
    "            node.data += add\n",
    "            print(node.data)"
   ]
  },
  {
   "cell_type": "code",
   "execution_count": 5,
   "metadata": {},
   "outputs": [],
   "source": [
    "test = Node(20)\n",
    "test.add(0);\n",
    "test.add(40);\n",
    "test.add(-15);\n",
    "test.children[0].add(12);\n",
    "test.children[0].add(-2);\n",
    "test.children[0].add(1);\n",
    "test.children[2].add(-2);"
   ]
  },
  {
   "cell_type": "code",
   "execution_count": 6,
   "metadata": {},
   "outputs": [],
   "source": [
    "def width(root):\n",
    "    counters = [0]\n",
    "    array = [root, 's']\n",
    "    while not (len(array) == 1 and array[-1] == 's'):\n",
    "        node = array.pop(0)\n",
    "        if node == 's':\n",
    "            counters.append(0)\n",
    "            array.append('s')\n",
    "        else:\n",
    "            counters[-1] += 1\n",
    "            array.extend(node.children)\n",
    "    return counters"
   ]
  },
  {
   "cell_type": "code",
   "execution_count": 7,
   "metadata": {},
   "outputs": [
    {
     "data": {
      "text/plain": [
       "[1, 3, 4]"
      ]
     },
     "execution_count": 7,
     "metadata": {},
     "output_type": "execute_result"
    }
   ],
   "source": [
    "width(test)"
   ]
  },
  {
   "cell_type": "code",
   "execution_count": null,
   "metadata": {},
   "outputs": [],
   "source": []
  },
  {
   "cell_type": "code",
   "execution_count": null,
   "metadata": {},
   "outputs": [],
   "source": []
  }
 ],
 "metadata": {
  "kernelspec": {
   "display_name": "Python 3",
   "language": "python",
   "name": "python3"
  },
  "language_info": {
   "codemirror_mode": {
    "name": "ipython",
    "version": 3
   },
   "file_extension": ".py",
   "mimetype": "text/x-python",
   "name": "python",
   "nbconvert_exporter": "python",
   "pygments_lexer": "ipython3",
   "version": "3.7.1"
  }
 },
 "nbformat": 4,
 "nbformat_minor": 2
}
