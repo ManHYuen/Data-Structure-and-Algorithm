{
 "cells": [
  {
   "cell_type": "code",
   "execution_count": 1,
   "metadata": {},
   "outputs": [],
   "source": [
    "# Linked List"
   ]
  },
  {
   "cell_type": "code",
   "execution_count": 2,
   "metadata": {},
   "outputs": [],
   "source": [
    "class Node:\n",
    "    def __init__(self, data, nextval = None):\n",
    "        self.data = data\n",
    "        self.nextval = nextval"
   ]
  },
  {
   "cell_type": "code",
   "execution_count": 3,
   "metadata": {},
   "outputs": [],
   "source": [
    "class LinkedList:\n",
    "    def __init__(self):\n",
    "        self.head = None\n",
    "    def insertFirst(self, data):\n",
    "        self.head = Node(data, self.head)\n",
    "    def size(self):\n",
    "        counter = 0\n",
    "        node = self.head\n",
    "        while node:\n",
    "            counter += 1\n",
    "            node = node.nextval\n",
    "        return counter\n",
    "    def getFirst(self):\n",
    "        return self.head\n",
    "    def getLast(self):\n",
    "        if not self.head:\n",
    "            return None\n",
    "        else:\n",
    "            node = self.head\n",
    "            while node:\n",
    "                if not node.nextval:\n",
    "                    return node\n",
    "                else:\n",
    "                    node = node.nextval\n",
    "    def clear(self):\n",
    "        self.head = None\n",
    "        \n",
    "    def removeFirst(self):\n",
    "        if not self.head:\n",
    "            return None\n",
    "        else:\n",
    "            self.head = self.head.nextval\n",
    "    def removeLast(self):\n",
    "        if not self.head:\n",
    "            return\n",
    "        if not self.head.nextval:\n",
    "            self.head = None\n",
    "            return\n",
    "        previous = self.head\n",
    "        node = self.head.nextval\n",
    "        while node.nextval:\n",
    "            previous = node\n",
    "            node = node.nextval\n",
    "        previous.nextval = None\n",
    "        \n",
    "#     def insertLast(self, data):\n",
    "#         if not self.head:\n",
    "#             self.head = Node(data, self.head)\n",
    "#             return\n",
    "#         node = self.head\n",
    "#         while node.nextval:\n",
    "#             node = node.nextval\n",
    "#         node.nextval = Node(data)\n",
    "        \n",
    "    def insertLast(self, data):\n",
    "        last = self.getLast()\n",
    "        \n",
    "        if not last:\n",
    "            self.head = Node(data)\n",
    "        else:\n",
    "            last.nextval = Node(data)\n",
    "            \n",
    "#     def getAt(self, interger):\n",
    "#         table = {}\n",
    "#         if interger >= self.size():\n",
    "#             return\n",
    "#         else:\n",
    "#             node = self.head\n",
    "#             for i in range(0, interger+1):\n",
    "#                 table[i] = node\n",
    "#                 node = node.nextval\n",
    "#         return table[interger]\n",
    "\n",
    "    def getAt(self, index):\n",
    "        if not self.head:\n",
    "            return None\n",
    "        else:\n",
    "            node = self.head\n",
    "            counter = 0\n",
    "            while node:\n",
    "                if counter == index:\n",
    "                    return node\n",
    "                else:\n",
    "                    counter += 1\n",
    "                    node = node.nextval\n",
    "            return None\n",
    "        \n",
    "#     def removeAt(self, index):\n",
    "#         if not self.head:\n",
    "#             return\n",
    "#         if not self.head.nextval and index == 0:\n",
    "#             self.head = None\n",
    "#             return\n",
    "#         counter = 0\n",
    "#         previous = self.head\n",
    "#         node = self.head.nextval\n",
    "        \n",
    "#         while node:\n",
    "#             if index == 0:\n",
    "#                 self.head = node\n",
    "#                 return\n",
    "#             elif index - 1 == counter:\n",
    "#                 previous.nextval = node.nextval\n",
    "#                 return\n",
    "#             else:\n",
    "#                 counter += 1\n",
    "#                 previous = node\n",
    "#                 node = node.nextval\n",
    "    def removeAt(self, index):\n",
    "        if not self.head:\n",
    "            return\n",
    "        if index == 0:\n",
    "            self.head = self.head.nextval\n",
    "            return\n",
    "        previous = self.getAt(index - 1)\n",
    "        if not previous or not previous.nextval:\n",
    "            return\n",
    "        else:\n",
    "            previous.nextval = previous.nextval.nextval\n",
    "            \n",
    "#     def insertAt(self, data, index):\n",
    "#         if index == 0:\n",
    "#             self.head = Node(data, self.head)\n",
    "#             return\n",
    "#         if index > 0:\n",
    "#             previous = self.getAt(index - 1)\n",
    "#             if not previous:\n",
    "#                 return\n",
    "#             else:\n",
    "#                 nextval = previous.nextval\n",
    "#                 previous.nextval = Node(data, nextval)\n",
    "#                 return\n",
    "\n",
    "    def insertAt(self, data, index):\n",
    "        if not self.head:\n",
    "            self.head = Node(data)\n",
    "            return\n",
    "        if index == 0:\n",
    "            self.head = Node(data, self.head)\n",
    "            return\n",
    "        try:\n",
    "            previous = self.getAt(index - 1)\n",
    "        except:\n",
    "            previous = self.getLast()\n",
    "        node = Node(data, previous.nextval)\n",
    "        previous.nextval = node\n",
    "        \n",
    "    def __iter__(self):\n",
    "        current = self.head\n",
    "        while current is not None:\n",
    "            yield current\n",
    "            current = current.nextval\n",
    "            \n",
    "    def forEach(self, value):\n",
    "        node = self.head\n",
    "        while node:\n",
    "            node.data += value\n",
    "            node = node.nextval"
   ]
  },
  {
   "cell_type": "code",
   "execution_count": 4,
   "metadata": {},
   "outputs": [],
   "source": [
    "# midpoint for LinkedList\n",
    "def midpoint(linkedlist):\n",
    "    slow = linkedlist.getFirst()\n",
    "    fast = linkedlist.getFirst()\n",
    "    \n",
    "    while fast.nextval and fast.nextval.nextval:\n",
    "        slow = slow.nextval\n",
    "        fast = fast.nextval.nextval\n",
    "    return slow.data"
   ]
  },
  {
   "cell_type": "code",
   "execution_count": 5,
   "metadata": {},
   "outputs": [],
   "source": [
    "test = LinkedList()"
   ]
  },
  {
   "cell_type": "code",
   "execution_count": 6,
   "metadata": {},
   "outputs": [],
   "source": [
    "test.insertLast(1)\n",
    "test.insertLast(2)\n",
    "test.insertLast(3)\n",
    "test.insertLast(4)\n",
    "test.insertLast(5)"
   ]
  },
  {
   "cell_type": "code",
   "execution_count": 7,
   "metadata": {},
   "outputs": [
    {
     "name": "stdout",
     "output_type": "stream",
     "text": [
      "1\n",
      "2\n",
      "3\n",
      "4\n",
      "5\n"
     ]
    }
   ],
   "source": [
    "for i in test:\n",
    "    print(i.data)"
   ]
  },
  {
   "cell_type": "code",
   "execution_count": 8,
   "metadata": {},
   "outputs": [
    {
     "data": {
      "text/plain": [
       "3"
      ]
     },
     "execution_count": 8,
     "metadata": {},
     "output_type": "execute_result"
    }
   ],
   "source": [
    "midpoint(test)"
   ]
  },
  {
   "cell_type": "code",
   "execution_count": 9,
   "metadata": {},
   "outputs": [],
   "source": [
    "# circular Linkedlist"
   ]
  },
  {
   "cell_type": "code",
   "execution_count": 10,
   "metadata": {},
   "outputs": [],
   "source": [
    "def circular(Linkedlist):\n",
    "    slow = Linkedlist.getFirst()\n",
    "    fast = Linkedlist.getFirst()\n",
    "    \n",
    "    while fast.nextval and fast.nextval.nextval:\n",
    "        fast = fast.nextval.nextval\n",
    "        slow = slow.nextval\n",
    "        \n",
    "        if fast == slow:\n",
    "            return True\n",
    "    return False"
   ]
  },
  {
   "cell_type": "code",
   "execution_count": 11,
   "metadata": {},
   "outputs": [],
   "source": [
    "l = LinkedList()"
   ]
  },
  {
   "cell_type": "code",
   "execution_count": 12,
   "metadata": {},
   "outputs": [],
   "source": [
    "a = Node('a')\n",
    "b = Node('b')\n",
    "c = Node('c')"
   ]
  },
  {
   "cell_type": "code",
   "execution_count": 13,
   "metadata": {},
   "outputs": [],
   "source": [
    "l.head = a\n",
    "a.nextval = b\n",
    "b.nextval = c\n",
    "c.nextval = b"
   ]
  },
  {
   "cell_type": "code",
   "execution_count": 14,
   "metadata": {},
   "outputs": [
    {
     "data": {
      "text/plain": [
       "True"
      ]
     },
     "execution_count": 14,
     "metadata": {},
     "output_type": "execute_result"
    }
   ],
   "source": [
    "circular(l)"
   ]
  },
  {
   "cell_type": "code",
   "execution_count": 15,
   "metadata": {},
   "outputs": [
    {
     "data": {
      "text/plain": [
       "False"
      ]
     },
     "execution_count": 15,
     "metadata": {},
     "output_type": "execute_result"
    }
   ],
   "source": [
    "circular(test)"
   ]
  },
  {
   "cell_type": "code",
   "execution_count": 16,
   "metadata": {},
   "outputs": [],
   "source": [
    "# From Last Linkedlist"
   ]
  },
  {
   "cell_type": "code",
   "execution_count": 17,
   "metadata": {},
   "outputs": [],
   "source": [
    "def fromLast(Linkedlist, n):\n",
    "    slow = Linkedlist.getFirst()\n",
    "    fast = Linkedlist.getFirst()\n",
    "    \n",
    "    for i in range(n):\n",
    "        fast = fast.nextval\n",
    "        \n",
    "    while fast.nextval:\n",
    "        fast = fast.nextval\n",
    "        slow = slow.nextval\n",
    "        \n",
    "    return slow"
   ]
  },
  {
   "cell_type": "code",
   "execution_count": 18,
   "metadata": {},
   "outputs": [
    {
     "name": "stdout",
     "output_type": "stream",
     "text": [
      "1\n",
      "2\n",
      "3\n",
      "4\n",
      "5\n"
     ]
    }
   ],
   "source": [
    "for i in test:\n",
    "    print(i.data)"
   ]
  },
  {
   "cell_type": "code",
   "execution_count": 19,
   "metadata": {},
   "outputs": [
    {
     "data": {
      "text/plain": [
       "3"
      ]
     },
     "execution_count": 19,
     "metadata": {},
     "output_type": "execute_result"
    }
   ],
   "source": [
    "fromLast(test, 2).data"
   ]
  },
  {
   "cell_type": "code",
   "execution_count": 24,
   "metadata": {},
   "outputs": [
    {
     "data": {
      "text/plain": [
       "4"
      ]
     },
     "execution_count": 24,
     "metadata": {},
     "output_type": "execute_result"
    }
   ],
   "source": [
    "fromLast(test, 1).data"
   ]
  },
  {
   "cell_type": "code",
   "execution_count": null,
   "metadata": {},
   "outputs": [],
   "source": []
  }
 ],
 "metadata": {
  "kernelspec": {
   "display_name": "Python 3",
   "language": "python",
   "name": "python3"
  },
  "language_info": {
   "codemirror_mode": {
    "name": "ipython",
    "version": 3
   },
   "file_extension": ".py",
   "mimetype": "text/x-python",
   "name": "python",
   "nbconvert_exporter": "python",
   "pygments_lexer": "ipython3",
   "version": "3.7.1"
  }
 },
 "nbformat": 4,
 "nbformat_minor": 2
}
